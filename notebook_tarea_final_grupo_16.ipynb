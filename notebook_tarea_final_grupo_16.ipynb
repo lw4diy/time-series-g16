{
 "cells": [
  {
   "cell_type": "markdown",
   "source": [
    "# Tarea final: **Aplicación de series de tiempo**\n",
    "\n",
    "### **Grupo 16 - Participantes:**\n",
    "- **Macarena Beatriz Ramírez - _maca.rm.estudios@gmail.com_**\n",
    "- **Carlos José Ramírez - _cjramirezt@uc.cl_**\n",
    "- **David Ernesto Quezada - _davque@gmail.com_**\n",
    "- **Amauris Germán Renvill - _arenvill@gmail.com_**\n",
    "- **Lara Sofía Rosenberg - lsrosenberg@uc.cl**\n",
    "\n",
    "### **Series de Tiempo - Magíster en Ciencia de Datos**\n",
    "### **Docente: Jonathan Acosta Salazar**\n",
    "\n",
    "### **Julio de 2024**\n",
    "\n",
    "-------\n"
   ],
   "metadata": {
    "collapsed": false
   },
   "id": "ef24ddaa36c17d6a"
  },
  {
   "cell_type": "markdown",
   "source": [
    "## **1. Introducción**\n",
    "\n",
    "Esta libreta contiene el código relacionado al trabajo final del curso de Series de Tiempo, cuyo informe completo y archivo de datos son entregados en ficheros adjuntos. El objetivo de este trabajo es analizar y modelar una serie de tiempo de $\\COMPLETAR$."
   ],
   "metadata": {
    "collapsed": false
   },
   "id": "f4020f5e44e8df7c"
  },
  {
   "cell_type": "markdown",
   "source": [
    "## **2. Carga de librerías y datos**\n",
    "\n",
    "A continuación, se cargan las librerías necesarias para el análisis y se importan los datos a utilizar."
   ],
   "metadata": {
    "collapsed": false
   },
   "id": "349181a970eb1e26"
  },
  {
   "cell_type": "code",
   "execution_count": null,
   "outputs": [],
   "source": [
    "# Carga de librerías (borrar lo que sobre)\n",
    "import numpy as np\n",
    "import pandas as pd\n",
    "import matplotlib.pyplot as plt\n",
    "from darts import TimeSeries\n",
    "from darts.models import ExponentialSmoothing  # por si hiciera falta\n",
    "from darts.utils.statistics import check_seasonality, plot_acf, plot_pacf, plot_residuals_analysis\n",
    "from statsmodels.tsa.stattools import adfuller\n",
    "import statsmodels.api as sm\n",
    "# from statsmodels.tsa.seasonal import seasonal_decompose\n",
    "# from statsmodels.tsa.statespace.sarimax import SARIMAX\n",
    "# from statsmodels.stats.diagnostic import acorr_ljungbox\n",
    "from sklearn.metrics import mean_squared_error\n"
   ],
   "metadata": {
    "collapsed": false
   },
   "id": "7aaace4d5e37f8d9"
  },
  {
   "cell_type": "code",
   "execution_count": null,
   "outputs": [],
   "source": [
    "# Carga de datos y preprocesamiento\n",
    "data = pd.read_csv('data.csv', parse_dates=['date'], index_col='date')\n",
    "# acá preprocesemos lo que haga falta: interpolar sobre nulos, eliminar columnas, arreglar formatos, etc.\n",
    "\n",
    "data.head()"
   ],
   "metadata": {
    "collapsed": false
   },
   "id": "73158ce1ef154625"
  },
  {
   "cell_type": "code",
   "execution_count": null,
   "outputs": [],
   "source": [
    "# Creación de la serie de tiempo, con train y test\n",
    "ts = TimeSeries.from_dataframe(data, 'date', ['value'])\n",
    "train, test = ts.split_after(pd.Timestamp('2023-01-01'))"
   ],
   "metadata": {
    "collapsed": false
   },
   "id": "bc399ec87869adda"
  },
  {
   "cell_type": "markdown",
   "source": [
    "## **3. Análisis exploratorio**\n",
    "\n",
    "En esta sección, se realiza un análisis exploratorio de la serie de tiempo, con el objetivo de identificar patrones y comportamientos que puedan ser útiles para el modelamiento posterior."
   ],
   "metadata": {
    "collapsed": false
   },
   "id": "bf9a59ad5282935c"
  },
  {
   "cell_type": "code",
   "execution_count": null,
   "outputs": [],
   "source": [
    "ts.plot()"
   ],
   "metadata": {
    "collapsed": false
   },
   "id": "43c0be03a0829d70"
  },
  {
   "cell_type": "markdown",
   "source": [
    "### **3.1. (si fuera necesario) Transformación de la serie**\n",
    "\n",
    "Justifiquemos por qué :) acá podríamos hacer una transformación logarítmica, por ejemplo, o una Box-Cox o exponencial o diferenciaciones según fuera necesario."
   ],
   "metadata": {
    "collapsed": false
   },
   "id": "58298351ea0a52e3"
  },
  {
   "cell_type": "code",
   "execution_count": null,
   "outputs": [],
   "source": [
    "# Descomposición\n",
    "decomposition = sm.tsa.seasonal_decompose(ts, model='additive')\n",
    "decomposition.plot()"
   ],
   "metadata": {
    "collapsed": false
   },
   "id": "489a80f58b217caa"
  },
  {
   "cell_type": "code",
   "execution_count": null,
   "outputs": [],
   "source": [
    "# Transformación logarítmica\n",
    "ts_log = ts.log()\n",
    "ts_log.plot()"
   ],
   "metadata": {
    "collapsed": false
   },
   "id": "3457ef328b4c69ee"
  },
  {
   "cell_type": "code",
   "execution_count": null,
   "outputs": [],
   "source": [
    "# Transformación Box-Cox\n",
    "ts_boxcox = ts.boxcox()\n",
    "ts_boxcox.plot()"
   ],
   "metadata": {
    "collapsed": false
   },
   "id": "63d387e28fc4cc1a"
  },
  {
   "cell_type": "code",
   "execution_count": null,
   "outputs": [],
   "source": [
    "# Diferenciación\n",
    "ts_diff = ts.difference()\n",
    "ts_diff.plot()"
   ],
   "metadata": {
    "collapsed": false
   },
   "id": "877662c9b81226b"
  },
  {
   "cell_type": "code",
   "execution_count": null,
   "outputs": [],
   "source": [
    "# Suavizado exponencial\n",
    "model = ExponentialSmoothing()\n",
    "model.fit(ts)\n",
    "ts_exp = model.predict(len(ts))"
   ],
   "metadata": {
    "collapsed": false
   },
   "id": "a499d7d8abef10ca"
  },
  {
   "cell_type": "markdown",
   "source": [
    "Algún texto acá que diga por qué elegimos la(s) transformación(es) que elegimos."
   ],
   "metadata": {
    "collapsed": false
   },
   "id": "872f59c8ff8d1a84"
  },
  {
   "cell_type": "markdown",
   "source": [
    "### **3.2. Análisis de estacionalidad y estacionariedad**\n",
    "\n",
    "Aquí realicemos un análisis de la serie con la que creamos que terminaremos trabajando (es decir, luego de transformarla adecuadamente), para chequear que es apta para el modelado."
   ],
   "metadata": {
    "collapsed": false
   },
   "id": "6ec41ee04fba8677"
  },
  {
   "cell_type": "code",
   "execution_count": null,
   "outputs": [],
   "source": [
    "# Análisis de estacionalidad\n",
    "seasonal_period = check_seasonality(ts)\n",
    "print(f'Seasonal period: {seasonal_period}')"
   ],
   "metadata": {
    "collapsed": false
   },
   "id": "f92d589ad603206"
  },
  {
   "cell_type": "code",
   "execution_count": null,
   "outputs": [],
   "source": [
    "# Análisis de estacionariedad\n",
    "adf_test = adfuller(ts.values())\n",
    "print(f'ADF Statistic: {adf_test[0]}')\n",
    "print(f'p-value: {adf_test[1]}')\n"
   ],
   "metadata": {
    "collapsed": false
   },
   "id": "715e81e8b90ac47e"
  },
  {
   "cell_type": "markdown",
   "source": [
    "Explicar brevemente qué significa cada uno de los resultados obtenidos, y por qué justifican el uso de esta serie transformada para el modelado."
   ],
   "metadata": {
    "collapsed": false
   },
   "id": "6f2423502a5c8f3f"
  },
  {
   "cell_type": "markdown",
   "source": [
    "### **3.2. Autocorrelación y autocorrelación parcial**"
   ],
   "metadata": {
    "collapsed": false
   },
   "id": "eb0fab6f366411ad"
  },
  {
   "cell_type": "code",
   "execution_count": null,
   "outputs": [],
   "source": [
    "plot_acf(ts)"
   ],
   "metadata": {
    "collapsed": false
   },
   "id": "fbdc939ece1ce531"
  },
  {
   "cell_type": "code",
   "execution_count": null,
   "outputs": [],
   "source": [
    "plot_pacf(ts)"
   ],
   "metadata": {
    "collapsed": false
   },
   "id": "53f65175d010f4ea"
  },
  {
   "cell_type": "markdown",
   "source": [
    "Explicar brevemente qué se puede inferir de los gráficos de autocorrelación y autocorrelación parcial, y cómo nos ayudarán en el modelado."
   ],
   "metadata": {
    "collapsed": false
   },
   "id": "1568cdb95db01708"
  },
  {
   "cell_type": "markdown",
   "source": [
    "## **4. Modelado**"
   ],
   "metadata": {
    "collapsed": false
   },
   "id": "ae0849d1b8e60a4c"
  },
  {
   "cell_type": "markdown",
   "source": [
    "### **4.1. Propuestas de modelos SARIMA**\n",
    "\n",
    "En base a los análisis realizados en la sección anterior, proponemos los siguientes modelos SARIMA:\n",
    "- **Modelo 1:** SARIMA(1, 1, 1)(1, 1, 1, 12)\n",
    "  > Este modelo se propone porque...\n",
    "- **Modelo 2:** SARIMA(1, 1, 1)(1, 1, 0, 12)\n",
    "  > Este modelo se propone porque...\n",
    "- **Modelo 3:** SARIMA(1, 1, 1)(0, 1, 1, 12)\n",
    "  > Este modelo se propone porque...\n",
    "- **Modelo 4:** SARIMA(1, 1, 1)(0, 1, 0, 12)\n",
    "  > Este modelo se propone porque...\n",
    "- **Modelo 5:** SARIMA(1, 1, 1)(1, 0, 1, 12)\n",
    "  > Este modelo se propone porque..."
   ],
   "metadata": {
    "collapsed": false
   },
   "id": "6a3d117e312bcfd7"
  },
  {
   "cell_type": "code",
   "execution_count": null,
   "outputs": [],
   "source": [
    "m1 = SARIMAX(train, order=(1, 1, 1), seasonal_order=(1, 1, 1, 12)).fit()\n",
    "m1.summary()"
   ],
   "metadata": {
    "collapsed": false
   },
   "id": "f9c5a845350ff3f4"
  },
  {
   "cell_type": "code",
   "execution_count": null,
   "outputs": [],
   "source": [
    "m2 = SARIMAX(train, order=(1, 1, 1), seasonal_order=(1, 1, 0, 12)).fit()\n",
    "m2.summary()"
   ],
   "metadata": {
    "collapsed": false
   },
   "id": "b6235df8b85385fa"
  },
  {
   "cell_type": "code",
   "execution_count": null,
   "outputs": [],
   "source": [
    "m3 = SARIMAX(train, order=(1, 1, 1), seasonal_order=(0, 1, 1, 12)).fit()\n",
    "m3.summary()"
   ],
   "metadata": {
    "collapsed": false
   },
   "id": "c5534566f535915a"
  },
  {
   "cell_type": "code",
   "execution_count": null,
   "outputs": [],
   "source": [
    "m4 = SARIMAX(train, order=(1, 1, 1), seasonal_order=(0, 1, 0, 12)).fit()\n",
    "m4.summary()"
   ],
   "metadata": {
    "collapsed": false
   },
   "id": "6d15edaf5cfe4b18"
  },
  {
   "cell_type": "code",
   "execution_count": null,
   "outputs": [],
   "source": [
    "m5 = SARIMAX(train, order=(1, 1, 1), seasonal_order=(1, 0, 1, 12)).fit()\n",
    "m5.summary()"
   ],
   "metadata": {
    "collapsed": false
   },
   "id": "6fc03904a2d2ba2c"
  },
  {
   "cell_type": "markdown",
   "source": [
    "### **4.3. Evaluación de los modelos propuestos**\n",
    "\n",
    "Antes de seleccionar modelos, evaluamos su aplicabilidad según si sus residuos son ruido blanco y si cumplen con los supuestos de normalidad y homocedasticidad."
   ],
   "metadata": {
    "collapsed": false
   },
   "id": "7db25322fa10ed47"
  },
  {
   "cell_type": "code",
   "execution_count": null,
   "outputs": [],
   "source": [
    "m1_res = m1.resid\n",
    "# test de blancura\n",
    "sm.stats.acorr_ljungbox(m1_res, lags=range(1,12), boxpierce=True).iloc[2:].plot()\n",
    "# test de normalidad\n",
    "sm.qqplot(m1_res, line='s')\n",
    "plt.show()\n",
    "# test de homocedasticidad\n",
    "plot_residuals_analysis(m1_res)"
   ],
   "metadata": {
    "collapsed": false
   },
   "id": "d5221f7bd25d92ea"
  },
  {
   "cell_type": "code",
   "execution_count": null,
   "outputs": [],
   "source": [
    "m2_res = m2.resid\n",
    "# test de blancura\n",
    "sm.stats.acorr_ljungbox(m2_res, lags=range(1,12), boxpierce=True).iloc[2:].plot()\n",
    "# test de normalidad\n",
    "sm.qqplot(m2_res, line='s')\n",
    "plt.show()\n",
    "# test de homocedasticidad\n",
    "plot_residuals_analysis(m2_res)"
   ],
   "metadata": {
    "collapsed": false
   },
   "id": "dbce0418af9a6d53"
  },
  {
   "cell_type": "code",
   "execution_count": null,
   "outputs": [],
   "source": [
    "m3_res = m3.resid\n",
    "# test de blancura\n",
    "sm.stats.acorr_ljungbox(m3_res, lags=range(1,12), boxpierce=True).iloc[2:].plot()\n",
    "# test de normalidad\n",
    "sm.qqplot(m3_res, line='s')\n",
    "plt.show()\n",
    "# test de homocedasticidad\n",
    "plot_residuals_analysis(m3_res)"
   ],
   "metadata": {
    "collapsed": false
   },
   "id": "24b013d32c040cfb"
  },
  {
   "cell_type": "code",
   "execution_count": null,
   "outputs": [],
   "source": [
    "m4_res = m4.resid\n",
    "# test de blancura\n",
    "sm.stats.acorr_ljungbox(m4_res, lags=range(1,12), boxpierce=True).iloc[2:].plot()\n",
    "# test de normalidad\n",
    "sm.qqplot(m4_res, line='s')\n",
    "plt.show()\n",
    "# test de homocedasticidad\n",
    "plot_residuals_analysis(m4_res)"
   ],
   "metadata": {
    "collapsed": false
   },
   "id": "fb934f95a3978ea4"
  },
  {
   "cell_type": "code",
   "execution_count": null,
   "outputs": [],
   "source": [
    "m5_res = m5.resid\n",
    "# test de blancura\n",
    "sm.stats.acorr_ljungbox(m5_res, lags=range(1,12), boxpierce=True).iloc[2:].plot()\n",
    "# test de normalidad\n",
    "sm.qqplot(m5_res, line='s')\n",
    "plt.show()\n",
    "# test de homocedasticidad\n",
    "plot_residuals_analysis(m5_res)"
   ],
   "metadata": {
    "collapsed": false
   },
   "id": "e13533c626ca60b8"
  },
  {
   "cell_type": "markdown",
   "source": [
    "En base a este análisis, podemos descartar los modelos x, y, z porque...\n",
    "En cambio, los modelos a, b, c parecen ser adecuados para el modelado porque..."
   ],
   "metadata": {
    "collapsed": false
   },
   "id": "2a81a36cf5527100"
  },
  {
   "cell_type": "markdown",
   "source": [
    "### **4.4. Comparación de los modelos propuestos**\n",
    "\n",
    "Ahora evaluamos los modelos propuestos, para determinar cuál es el mejor según los criterios de información AIC y BIC en primer lugar, y luego según el error cuadrático medio (MSE) en el conjunto de test."
   ],
   "metadata": {
    "collapsed": false
   },
   "id": "b17af99b36ef2ac0"
  },
  {
   "cell_type": "code",
   "execution_count": null,
   "outputs": [],
   "source": [
    "models = [m1, m2, m3, m4, m5]\n",
    "aic = [m.aic for m in models]\n",
    "bic = [m.bic for m in models]\n",
    "mse = [mean_squared_error(test.values(), m.forecast(len(test)).values()) for m in models]\n",
    "\n",
    "results = pd.DataFrame({'AIC': aic, 'BIC': bic, 'MSE': mse})\n",
    "results"
   ],
   "metadata": {
    "collapsed": false
   },
   "id": "96352c3490a3fd19"
  },
  {
   "cell_type": "markdown",
   "source": [
    "En base a los resultados obtenidos en la sección anterior, seleccionamos el modelo SARIMA(?,?,?)x(x,x,x)[x] que es el que mejor se ajusta a los datos."
   ],
   "metadata": {
    "collapsed": false
   },
   "id": "33a99d112291c48b"
  },
  {
   "cell_type": "code",
   "execution_count": null,
   "outputs": [],
   "source": [
    "modfinal = models[results['AIC'].idxmin()] # definir mejor jaja"
   ],
   "metadata": {
    "collapsed": false
   },
   "id": "c1512dfbee947e94"
  },
  {
   "cell_type": "markdown",
   "source": [
    "## **5. Predicción**\n",
    "\n",
    "El modelo final seleccionado es SARIMA(?,?,?)x(x,x,x)[x], y lo utilizamos para predecir los valores de la serie en el conjunto de test. A continuación, mostramos los resultados obtenidos junto con sus intervalos de confianza."
   ],
   "metadata": {
    "collapsed": false
   },
   "id": "3978c0c4595ff9c"
  },
  {
   "cell_type": "code",
   "execution_count": null,
   "outputs": [],
   "source": [
    "modfinal = SARIMAX(ts, order=(1, 1, 1), seasonal_order=(1, 1, 1, 12)).fit()\n",
    "pred = modfinal.forecast(len(test))\n",
    "\n",
    "# recomponer la serie predicha para graficarla junto con la serie original de entrenamiento\n",
    "pred = TimeSeries.from_values(pred.values(), start=pd.Timestamp('2023-01-01'), freq='D')\n",
    "ts.plot(label='train')\n",
    "pred.plot(label='forecast', lw=2)\n",
    "plt.legend()\n"
   ],
   "metadata": {
    "collapsed": false
   },
   "id": "da2923cd9023c728"
  },
  {
   "cell_type": "markdown",
   "source": [],
   "metadata": {
    "collapsed": false
   },
   "id": "e56859eed996eded"
  }
 ],
 "metadata": {
  "kernelspec": {
   "display_name": "Python 3",
   "language": "python",
   "name": "python3"
  },
  "language_info": {
   "codemirror_mode": {
    "name": "ipython",
    "version": 2
   },
   "file_extension": ".py",
   "mimetype": "text/x-python",
   "name": "python",
   "nbconvert_exporter": "python",
   "pygments_lexer": "ipython2",
   "version": "2.7.6"
  }
 },
 "nbformat": 4,
 "nbformat_minor": 5
}
